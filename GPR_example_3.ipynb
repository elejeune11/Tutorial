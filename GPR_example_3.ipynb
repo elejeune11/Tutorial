{
 "cells": [
  {
   "cell_type": "code",
   "execution_count": 1,
   "metadata": {},
   "outputs": [],
   "source": [
    "import numpy as np\n",
    "import matplotlib.pyplot as plt\n",
    "from sklearn.gaussian_process import GaussianProcessRegressor\n",
    "from sklearn.gaussian_process.kernels import RBF, RationalQuadratic, WhiteKernel, ConstantKernel as C\n",
    "import pyDOE as doe\n",
    "from SALib.sample import saltelli\n",
    "from SALib.analyze import sobol"
   ]
  },
  {
   "cell_type": "code",
   "execution_count": 2,
   "metadata": {},
   "outputs": [],
   "source": [
    "np.random.seed(10)\n",
    "##########################################################################################\n",
    "# sample function -- black box -- would replace w/ experimental data \n",
    "##########################################################################################\n",
    "def func_5D(X):\n",
    "\t# made up function \n",
    "\tnum_pts = X.shape[0]\n",
    "\ty = X[:,0]*5 + X[:,1] + 0.25*np.sin(X[:,2])*X[:,0]**2.0 + np.random.normal(0,2,num_pts) + 100\n",
    "\treturn y \n"
   ]
  },
  {
   "cell_type": "code",
   "execution_count": 3,
   "metadata": {},
   "outputs": [],
   "source": [
    "# sample the function (w/ real data this would just be import data)\n",
    "num_samples = 100\n",
    "num_variables = 5\n",
    "\n",
    "lhs_samp = doe.lhs(num_variables, num_samples)\n",
    "\n",
    "scale_0 = 10; min_0 = 0; max_0 = min_0 + scale_0\n",
    "scale_1 = 20; min_1 = 3; max_1 = min_1 + scale_1\n",
    "scale_2 = 2; min_2 = 77; max_2 = min_2 + scale_2\n",
    "scale_3 = 10; min_3 = 3; max_3 = min_3 + scale_3\n",
    "scale_4 = 3; min_4 = 2; max_4 = min_4 + scale_4\n",
    "\n",
    "X = lhs_samp\n",
    "X[:,0] = X[:,0]*scale_0 + min_0\n",
    "X[:,1] = X[:,1]*scale_1 + min_1\n",
    "X[:,2] = X[:,2]*scale_2 + min_2\n",
    "X[:,3] = X[:,3]*scale_3 + min_3\n",
    "X[:,4] = X[:,4]*scale_4 + min_4\n",
    "\n",
    "y = func_5D(X)\n"
   ]
  },
  {
   "cell_type": "code",
   "execution_count": 4,
   "metadata": {},
   "outputs": [],
   "source": [
    "# separate data into test and training data\n",
    "perm = np.random.permutation(num_samples)\n",
    "num_train = 75\n",
    "X_train = X[perm[0:num_train],:]\n",
    "y_train = y[perm[0:num_train]]\n",
    "\n",
    "X_test = X[perm[num_train:],:]\n",
    "y_test = y[perm[num_train:]]\n"
   ]
  },
  {
   "cell_type": "code",
   "execution_count": 6,
   "metadata": {},
   "outputs": [
    {
     "name": "stdout",
     "output_type": "stream",
     "text": [
      "test error: 2.3310423908217826\n",
      "train error: 1.0513527883723486\n",
      "standard deviation of QoI: 19.102443217155308\n"
     ]
    }
   ],
   "source": [
    "# create the model\n",
    "kernel = 1.0 * RBF(length_scale=1.0, length_scale_bounds=(1e-1, 10.0))\n",
    "gp = GaussianProcessRegressor(kernel=kernel,alpha=3.0)\n",
    "\n",
    "# fit the model\n",
    "gp.fit(X_train, y_train)\n",
    "\n",
    "# compute the train and test error\n",
    "y_mean_train, y_std_train = gp.predict(X_train, return_std=True)\n",
    "y_mean_test, y_std_test = gp.predict(X_test, return_std=True)\n",
    "\n",
    "test_error = np.mean(np.abs(y_mean_test - y_test))\n",
    "train_error = np.mean(np.abs(y_mean_train - y_train))\n",
    "print('test error:',test_error)\n",
    "print('train error:', train_error)\n",
    "print('standard deviation of QoI:',np.std(y))"
   ]
  },
  {
   "cell_type": "code",
   "execution_count": 8,
   "metadata": {},
   "outputs": [
    {
     "data": {
      "text/plain": [
       "GaussianProcessRegressor(alpha=3.0, copy_X_train=True,\n",
       "                         kernel=1**2 * RBF(length_scale=1),\n",
       "                         n_restarts_optimizer=0, normalize_y=False,\n",
       "                         optimizer='fmin_l_bfgs_b', random_state=None)"
      ]
     },
     "execution_count": 8,
     "metadata": {},
     "output_type": "execute_result"
    }
   ],
   "source": [
    "# re-train the model w/ all data available \n",
    "gp.fit(X, y)"
   ]
  },
  {
   "cell_type": "code",
   "execution_count": 9,
   "metadata": {},
   "outputs": [],
   "source": [
    "# run SA \n",
    "# set up the problem\n",
    "problem = {\n",
    "    'num_vars': 5,\n",
    "    'names': ['x0', 'x1', 'x2', 'x3', 'x4'],\n",
    "    'bounds': [[min_0, max_0],\n",
    "               [min_1, max_1],\n",
    "               [min_2, max_2],\n",
    "               [min_3, max_3],\n",
    "               [min_4, max_4]]\n",
    "}"
   ]
  },
  {
   "cell_type": "code",
   "execution_count": 13,
   "metadata": {},
   "outputs": [
    {
     "data": {
      "image/png": "[encoded data removed]",
      "text/plain": [
       "<Figure size 432x288 with 1 Axes>"
      ]
     },
     "metadata": {
      "needs_background": "light"
     },
     "output_type": "display_data"
    }
   ],
   "source": [
    "param_values = saltelli.sample(problem, 10000)\n",
    "\n",
    "# evaluate the model\n",
    "model_eval = gp.predict(param_values)\n",
    "\n",
    "# compute sobol indices \n",
    "Si = sobol.analyze(problem, model_eval)\n",
    "\n",
    "first_order = Si['S1']\n",
    "total = Si['ST']\n",
    "\n",
    "# plot sobol indices\n",
    "wid = .25\n",
    "xax = np.asarray([0,1,2,3,4])\n",
    "\n",
    "plt.figure()\n",
    "plt.bar(xax-wid/2.0,first_order,width=wid,label='first order')\n",
    "plt.bar(xax+wid/2.0,total,width=wid,label='total')\n",
    "plt.xlabel('parameter')\n",
    "plt.ylabel('Sobol index')\n",
    "plt.legend()\n",
    "plt.savefig('Sobol index')\n"
   ]
  },
  {
   "cell_type": "code",
   "execution_count": null,
   "metadata": {},
   "outputs": [],
   "source": []
  }
 ],
 "metadata": {
  "kernelspec": {
   "display_name": "Python 3",
   "language": "python",
   "name": "python3"
  },
  "language_info": {
   "codemirror_mode": {
    "name": "ipython",
    "version": 3
   },
   "file_extension": ".py",
   "mimetype": "text/x-python",
   "name": "python",
   "nbconvert_exporter": "python",
   "pygments_lexer": "ipython3",
   "version": "3.6.10"
  }
 },
 "nbformat": 4,
 "nbformat_minor": 4
}
